{
  "nbformat": 4,
  "nbformat_minor": 0,
  "metadata": {
    "colab": {
      "provenance": []
    },
    "kernelspec": {
      "name": "python3",
      "display_name": "Python 3"
    },
    "language_info": {
      "name": "python"
    },
    "accelerator": "GPU"
  },
  "cells": [
    {
      "cell_type": "code",
      "source": [
        "!pip install gym[classic_control]"
      ],
      "metadata": {
        "colab": {
          "base_uri": "https://localhost:8080/"
        },
        "id": "GtRfcYi4USwB",
        "outputId": "bc93b2d7-b30c-44cb-a7ce-6d8bc3364071"
      },
      "execution_count": 2,
      "outputs": [
        {
          "output_type": "stream",
          "name": "stdout",
          "text": [
            "Looking in indexes: https://pypi.org/simple, https://us-python.pkg.dev/colab-wheels/public/simple/\n",
            "Requirement already satisfied: gym[classic_control] in /usr/local/lib/python3.7/dist-packages (0.25.2)\n",
            "Requirement already satisfied: cloudpickle>=1.2.0 in /usr/local/lib/python3.7/dist-packages (from gym[classic_control]) (1.5.0)\n",
            "Requirement already satisfied: importlib-metadata>=4.8.0 in /usr/local/lib/python3.7/dist-packages (from gym[classic_control]) (4.12.0)\n",
            "Requirement already satisfied: gym-notices>=0.0.4 in /usr/local/lib/python3.7/dist-packages (from gym[classic_control]) (0.0.8)\n",
            "Requirement already satisfied: numpy>=1.18.0 in /usr/local/lib/python3.7/dist-packages (from gym[classic_control]) (1.21.6)\n",
            "Collecting pygame==2.1.0\n",
            "  Downloading pygame-2.1.0-cp37-cp37m-manylinux_2_17_x86_64.manylinux2014_x86_64.whl (18.3 MB)\n",
            "\u001b[K     |████████████████████████████████| 18.3 MB 129 kB/s \n",
            "\u001b[?25hRequirement already satisfied: zipp>=0.5 in /usr/local/lib/python3.7/dist-packages (from importlib-metadata>=4.8.0->gym[classic_control]) (3.8.1)\n",
            "Requirement already satisfied: typing-extensions>=3.6.4 in /usr/local/lib/python3.7/dist-packages (from importlib-metadata>=4.8.0->gym[classic_control]) (4.1.1)\n",
            "Installing collected packages: pygame\n",
            "Successfully installed pygame-2.1.0\n"
          ]
        }
      ]
    },
    {
      "cell_type": "code",
      "execution_count": 4,
      "metadata": {
        "colab": {
          "base_uri": "https://localhost:8080/",
          "height": 1000
        },
        "id": "aK10j0pRT4Cq",
        "outputId": "a27854ac-7206-40b7-ac50-38b9deac4704"
      },
      "outputs": [
        {
          "output_type": "stream",
          "name": "stdout",
          "text": [
            "Episode 100 Average Reward: -200.0\n",
            "Episode 200 Average Reward: -200.0\n",
            "Episode 300 Average Reward: -200.0\n",
            "Episode 400 Average Reward: -200.0\n",
            "Episode 500 Average Reward: -200.0\n",
            "Episode 600 Average Reward: -200.0\n",
            "Episode 700 Average Reward: -200.0\n",
            "Episode 800 Average Reward: -200.0\n",
            "Episode 900 Average Reward: -200.0\n",
            "Episode 1000 Average Reward: -200.0\n",
            "Episode 1100 Average Reward: -200.0\n",
            "Episode 1200 Average Reward: -200.0\n",
            "Episode 1300 Average Reward: -200.0\n",
            "Episode 1400 Average Reward: -200.0\n",
            "Episode 1500 Average Reward: -200.0\n",
            "Episode 1600 Average Reward: -200.0\n",
            "Episode 1700 Average Reward: -200.0\n",
            "Episode 1800 Average Reward: -200.0\n",
            "Episode 1900 Average Reward: -200.0\n",
            "Episode 2000 Average Reward: -200.0\n",
            "Episode 2100 Average Reward: -200.0\n",
            "Episode 2200 Average Reward: -200.0\n",
            "Episode 2300 Average Reward: -200.0\n",
            "Episode 2400 Average Reward: -200.0\n",
            "Episode 2500 Average Reward: -200.0\n",
            "Episode 2600 Average Reward: -199.53\n",
            "Episode 2700 Average Reward: -200.0\n",
            "Episode 2800 Average Reward: -200.0\n",
            "Episode 2900 Average Reward: -200.0\n",
            "Episode 3000 Average Reward: -200.0\n",
            "Episode 3100 Average Reward: -200.0\n",
            "Episode 3200 Average Reward: -199.76\n",
            "Episode 3300 Average Reward: -199.91\n",
            "Episode 3400 Average Reward: -198.3\n",
            "Episode 3500 Average Reward: -198.9\n",
            "Episode 3600 Average Reward: -198.53\n",
            "Episode 3700 Average Reward: -199.84\n",
            "Episode 3800 Average Reward: -196.19\n",
            "Episode 3900 Average Reward: -195.91\n",
            "Episode 4000 Average Reward: -198.37\n",
            "Episode 4100 Average Reward: -197.76\n",
            "Episode 4200 Average Reward: -199.32\n",
            "Episode 4300 Average Reward: -189.52\n",
            "Episode 4400 Average Reward: -198.42\n",
            "Episode 4500 Average Reward: -190.28\n",
            "Episode 4600 Average Reward: -186.78\n",
            "Episode 4700 Average Reward: -199.01\n",
            "Episode 4800 Average Reward: -194.74\n",
            "Episode 4900 Average Reward: -198.53\n",
            "Episode 5000 Average Reward: -186.19\n"
          ]
        },
        {
          "output_type": "display_data",
          "data": {
            "text/plain": [
              "<Figure size 432x288 with 1 Axes>"
            ],
            "image/png": "[encoded data removed]"
          },
          "metadata": {
            "needs_background": "light"
          }
        }
      ],
      "source": [
        "import numpy as np\n",
        "import gym\n",
        "import matplotlib.pyplot as plt\n",
        "\n",
        "env = gym.make(\"MountainCar-v0\")\n",
        "env.reset()\n",
        "\n",
        "learning=0.2\n",
        "discount = 0.9\n",
        "epsilon = 0.8\n",
        "min_eps = 0\n",
        "episodes = 5000\n",
        "\n",
        "\n",
        "num_states = (env.observation_space.high - env.observation_space.low)*\\\n",
        "                    np.array([10, 100])\n",
        "num_states = np.round(num_states, 0).astype(int)+1\n",
        "\n",
        "\n",
        "Q = np.random.uniform(low=-1, high=1, size = (num_states[0], num_states[1], env.action_space.n))\n",
        "\n",
        "reward_list=[]\n",
        "ave_reward_list=[]\n",
        "\n",
        "reduction = (epsilon-min_eps)/episodes\n",
        "\n",
        "for i in range(episodes):\n",
        "  done=False\n",
        "  tot_reward, reward = 0,0\n",
        "  state=env.reset()\n",
        "\n",
        "  state_adj = (state - env.observation_space.low)*np.array([10, 100])\n",
        "  state_adj = np.round(state_adj, 0).astype(int)\n",
        "\n",
        "  while not done:\n",
        "    #env.render()\n",
        "\n",
        "    if np.random.random() < 1-epsilon:\n",
        "      action = np.argmax(Q[state_adj[0], state_adj[1]])\n",
        "    else:\n",
        "      action = np.random.randint(0, env.action_space.n)\n",
        "\n",
        "    state2, reward, done, info = env.step(action)\n",
        "\n",
        "    state2_adj = (state2 - env.observation_space.low)*np.array([10, 100])\n",
        "    state2_adj = np.round(state2_adj, 0).astype(int)\n",
        "\n",
        "    if done and state2[0] >= 0.5:\n",
        "      Q[state_adj[0], state_adj[1], action] = reward\n",
        "\n",
        "    else:\n",
        "      delta = learning*(reward + discount*np.max(Q[state2_adj[0], state2_adj[1]]) - Q[state_adj[0], state_adj[1], action])\n",
        "      Q[state_adj[0], state_adj[1], action] += delta\n",
        "\n",
        "    tot_reward +=reward\n",
        "    state_adj = state2_adj\n",
        "\n",
        "  if epsilon > min_eps:\n",
        "    epsilon -= reduction\n",
        "\n",
        "  reward_list.append(tot_reward)\n",
        "\n",
        "  if (i+1) % 100 ==0:\n",
        "    ave_reward = np.mean(reward_list)\n",
        "    ave_reward_list.append(ave_reward)\n",
        "    reward_list = []\n",
        "\n",
        "  if (i+1) % 100 ==0:\n",
        "    print('Episode {} Average Reward: {}'.format(i+1, ave_reward))\n",
        "\n",
        "env.close()\n",
        "\n",
        "\n",
        "plt.plot(100*(np.arange(len(ave_reward_list)) + 1), ave_reward_list)\n",
        "plt.xlabel('Episodes')\n",
        "plt.ylabel('Average Reward')\n",
        "plt.title('Average Reward vs Episodes')   \n",
        "plt.show()  "
      ]
    }
  ]
}